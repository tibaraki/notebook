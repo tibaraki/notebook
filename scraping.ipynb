{
 "cells": [
  {
   "cell_type": "code",
   "execution_count": 3,
   "metadata": {},
   "outputs": [],
   "source": [
    "import requests\n",
    "import re\n",
    "from time import sleep\n",
    "from bs4 import BeautifulSoup\n",
    "\n",
    "domain = \"https://www.kobe-np.co.jp\"\n",
    "startpath = \"/news/keizai\""
   ]
  },
  {
   "cell_type": "code",
   "execution_count": 5,
   "metadata": {},
   "outputs": [],
   "source": [
    "basesoup = BeautifulSoup(requests.get(domain + startpath).text, \"lxml\")"
   ]
  },
  {
   "cell_type": "code",
   "execution_count": 9,
   "metadata": {},
   "outputs": [],
   "source": [
    "links = []\n",
    "for a in basesoup.find_all(\"a\", href=re.compile(\"/news/keizai/[0-9]+/.*\")):\n",
    "    links.append(domain + a.get(\"href\"))"
   ]
  },
  {
   "cell_type": "code",
   "execution_count": 14,
   "metadata": {},
   "outputs": [
    {
     "data": {
      "text/plain": [
       "['神戸製鋼所神戸本社＝神戸市中央区脇浜海岸通２\\n\\n\\u3000神戸製鋼所は１５日、製品検査データを改ざんしていたアルミ・銅事業部門に、製造担当から独立した品質保証部を新設し、関連人事を発令した。検査データを長期間、複数の社員が改ざんしていた長府製造所（山口県下関市）など国内３拠点では、品質保証担当を製造部門から切り離した。一方、顧客対応に専念させるため工場長２人の職務を解いた。\\u3000いずれも、不正の原因究明と再発防止策の報告書をまとめた１０日付。新設した品質保証部には３人を充て、各拠点の監査や法令順守（コンプライアンス）教育を担う。部長には大安工場（三重県いなべ市）の主任部員が就いた。\\u3000大安工場長と長府製造所アルミ押出工場長は、担当部長に事実上降格した。納入先の自動車や航空機部品、鉄道車両メーカーなどとの対応に当たる。同社秘書広報部は「社内処分は外部委員会の調査結果を待って発令する。今回の異動は関係ない」としている。\\u3000同時に、大安工場を大安製造所に改称。サスペンション、アルミ鋳鍛の２工場を置いた。（高見雄樹）',\n",
       " '「ひょうごオンリーワン企業」の３社が出展する兵庫県ブース＝東京ビッグサイト\\n\\n\\u3000中小企業が製品や技術を展示する国内最大級の見本市「産業交流展」が１５日、東京都江東区の東京ビッグサイトで開幕した。優れた技術があり、国内外で高い評価を得ている中小企業を兵庫県が認定する「ひょうごオンリーワン企業」の３社も共同出展し、自慢の逸品をＰＲしている。１７日まで。\\u3000中小企業の販路拡大や情報交換などのため、東京都などでつくる実行委員会が毎年開催。２０回目の今回は８８４社・団体が出展した。\\u3000県が兵庫のものづくりをＰＲするため、初めてブースを確保。コンベヤー用のモーター内蔵ローラーで世界約７割のシェアを誇る伊東電機（加西市）は代表的製品「パワーモーラ」、雷対策専門メーカーの音羽電機工業（尼崎市）は新幹線用や家庭用など多様な避雷器、但馬ティエスケイ（豊岡市）は常温下での鍛造「冷間鍛造」による深穴加工技術を施した部品などを紹介している。（藤森恵一郎）',\n",
       " '世耕弘成経済産業相は１４日午前の閣議後記者会見で、神戸製鋼所から経産省へ１０日に報告のあった製品検査データ改ざん問題の原因究明や再発防止策について「第一の原因として、自らの経営問題を挙げたことは、信頼回復に向けた一つのステップだと思っている」との見解を示した。\\u3000また、同省が神戸製鋼の川崎博也会長兼社長から１０日に報告を受けた際、一刻も早く全ての製品について安全検証を終える▽外部調査委員会による事実関係の究明などが速やかにされるよう最大限協力する▽再発防止策については着手できるものから直ちに実行する－の３点を神戸製鋼に伝えたことを明らかにした。\\u3000世耕経産相は「今後とも神戸製鋼所に対し社会からの信頼回復に積極的に取り組むことを求めていきたい」と述べた。（藤森恵一郎）']"
      ]
     },
     "execution_count": 14,
     "metadata": {},
     "output_type": "execute_result"
    }
   ],
   "source": [
    "texts = []\n",
    "for link in links[:3]:\n",
    "    sleep(1)\n",
    "    soup = BeautifulSoup(requests.get(link).text, \"lxml\")\n",
    "    texts.append(soup.find(\"div\", class_=\"news-contents\").text.strip())"
   ]
  },
  {
   "cell_type": "code",
   "execution_count": null,
   "metadata": {
    "collapsed": true
   },
   "outputs": [],
   "source": []
  }
 ],
 "metadata": {
  "kernelspec": {
   "display_name": "Python 3",
   "language": "python",
   "name": "python3"
  },
  "language_info": {
   "codemirror_mode": {
    "name": "ipython",
    "version": 3
   },
   "file_extension": ".py",
   "mimetype": "text/x-python",
   "name": "python",
   "nbconvert_exporter": "python",
   "pygments_lexer": "ipython3",
   "version": "3.6.3"
  }
 },
 "nbformat": 4,
 "nbformat_minor": 2
}
