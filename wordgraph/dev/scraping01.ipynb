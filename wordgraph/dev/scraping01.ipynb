{
 "cells": [
  {
   "cell_type": "code",
   "execution_count": 1,
   "metadata": {
    "collapsed": true
   },
   "outputs": [],
   "source": [
    "import requests\n",
    "import re\n",
    "from time import sleep\n",
    "from bs4 import BeautifulSoup\n",
    "from datetime import datetime\n",
    "\n",
    "domain = \"https://www.kobe-np.co.jp\"\n",
    "startpath = \"/news/keizai\""
   ]
  },
  {
   "cell_type": "code",
   "execution_count": 2,
   "metadata": {
    "collapsed": true
   },
   "outputs": [],
   "source": [
    "basesoup = BeautifulSoup(requests.get(domain + startpath).text, \"lxml\")"
   ]
  },
  {
   "cell_type": "code",
   "execution_count": 3,
   "metadata": {
    "collapsed": true
   },
   "outputs": [],
   "source": [
    "links = []\n",
    "for a in basesoup.find_all(\"a\", href=re.compile(\"/news/keizai/[0-9]+/.*\")):\n",
    "    links.append(domain + a.get(\"href\"))"
   ]
  },
  {
   "cell_type": "code",
   "execution_count": 5,
   "metadata": {},
   "outputs": [
    {
     "name": "stdout",
     "output_type": "stream",
     "text": [
      "2017-11-18T22:59:34.903717:(1/63)\n",
      "2017-11-18T22:59:37.269852:(2/63)\n",
      "2017-11-18T22:59:39.627987:(3/63)\n"
     ]
    }
   ],
   "source": [
    "texts = []\n",
    "count = 0\n",
    "\n",
    "for link in links:\n",
    "    sleep(2)\n",
    "    soup = BeautifulSoup(requests.get(link).text, \"lxml\")\n",
    "    texts.append(soup.find(\"h4\", class_=\"news-title\").text.strip() + \" \" + soup.find(\"div\", class_=\"news-contents\").text.strip())\n",
    "    \n",
    "    count = count + 1\n",
    "    print (datetime.now().isoformat()+\":(\"+str(count)+\"/\"+str(len(links))+\")\")"
   ]
  },
  {
   "cell_type": "code",
   "execution_count": 6,
   "metadata": {},
   "outputs": [
    {
     "name": "stdout",
     "output_type": "stream",
     "text": [
      "sqlite3: UNIQUE constraint failed: rawtext.id\n",
      "2017-11-18T22:59:50.519610:db written\n"
     ]
    }
   ],
   "source": [
    "import sqlite3\n",
    "import hashlib\n",
    "\n",
    "dbname = \"text.db\"\n",
    "dbcon = sqlite3.connect(dbname)\n",
    "dbcur = dbcon.cursor()\n",
    "\n",
    "for text in texts:\n",
    "    insert = \"INSERT INTO rawtext(id, source, time, rawtext) VALUES(?, ?, ?, ?)\"\n",
    "\n",
    "    id = hashlib.md5(text.encode(\"utf-8\")).hexdigest()\n",
    "    source = \"神戸新聞（経済）\"\n",
    "    time = datetime.now().isoformat()\n",
    "    \n",
    "    args = (id, source, time, text)\n",
    "    \n",
    "    try:\n",
    "        dbcur.execute(insert, args)\n",
    "    except sqlite3.Error as e:\n",
    "        print('sqlite3:', e.args[0])\n",
    "    \n",
    "dbcon.commit()\n",
    "dbcon.close()\n",
    "print (datetime.now().isoformat()+\":db written\")"
   ]
  },
  {
   "cell_type": "code",
   "execution_count": null,
   "metadata": {
    "collapsed": true
   },
   "outputs": [],
   "source": []
  }
 ],
 "metadata": {
  "kernelspec": {
   "display_name": "Python 3",
   "language": "python",
   "name": "python3"
  },
  "language_info": {
   "codemirror_mode": {
    "name": "ipython",
    "version": 3
   },
   "file_extension": ".py",
   "mimetype": "text/x-python",
   "name": "python",
   "nbconvert_exporter": "python",
   "pygments_lexer": "ipython3",
   "version": "3.6.3"
  }
 },
 "nbformat": 4,
 "nbformat_minor": 2
}
