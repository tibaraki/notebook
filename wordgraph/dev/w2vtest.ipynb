{
 "cells": [
  {
   "cell_type": "code",
   "execution_count": null,
   "metadata": {
    "collapsed": true
   },
   "outputs": [],
   "source": [
    "import logging\n",
    "logging.basicConfig(filename='./log/genmodel.log', format='%(asctime)s : %(module)s : %(levelname)s : %(message)s', level=logging.INFO)\n",
    "\n",
    "import sqlite3\n",
    "\n",
    "dbname = \"words.db\"\n",
    "dbcon = sqlite3.connect(dbname)\n",
    "dbcon.row_factory = sqlite3.Row"
   ]
  },
  {
   "cell_type": "code",
   "execution_count": null,
   "metadata": {
    "collapsed": true
   },
   "outputs": [],
   "source": [
    "from gensim.models import word2vec"
   ]
  },
  {
   "cell_type": "code",
   "execution_count": null,
   "metadata": {
    "collapsed": true
   },
   "outputs": [],
   "source": [
    "file = open(\"text.txt\", mode=\"w\", encoding=\"utf-8\", newline=\"\\n\")"
   ]
  },
  {
   "cell_type": "code",
   "execution_count": null,
   "metadata": {
    "collapsed": true
   },
   "outputs": [],
   "source": [
    "q_source = \"%\"\n",
    "q_words = \"\"\n",
    "sentences = map(lambda x: x[\"words\"], dbcon.execute(\"select * from wordstbl where source like ?\", (q_source,)))"
   ]
  },
  {
   "cell_type": "code",
   "execution_count": null,
   "metadata": {
    "collapsed": true
   },
   "outputs": [],
   "source": [
    "q_source = \"%\"\n",
    "q_words = \"パナソニック\"\n",
    "sentences = map(lambda x: x[\"words\"], dbcon.execute(\"select * from wordstbl where source like ? and words match ?\", (q_source, q_words)))"
   ]
  },
  {
   "cell_type": "code",
   "execution_count": null,
   "metadata": {},
   "outputs": [],
   "source": [
    "for sentence in sentences:\n",
    "    print(sentence)"
   ]
  },
  {
   "cell_type": "code",
   "execution_count": null,
   "metadata": {
    "collapsed": true
   },
   "outputs": [],
   "source": [
    "dic = {}\n",
    "for sentence in sentences:\n",
    "    file.write(sentence + \"\\n\")\n",
    "    for word in sentence.split(\" \"):\n",
    "        if word in dic:\n",
    "            dic[word] = dic[word] + 1\n",
    "        else:\n",
    "            dic[word] = 1"
   ]
  },
  {
   "cell_type": "code",
   "execution_count": null,
   "metadata": {},
   "outputs": [],
   "source": [
    "print(sorted(dic.items(), key=lambda x: x[1], reverse=True))"
   ]
  },
  {
   "cell_type": "code",
   "execution_count": null,
   "metadata": {
    "collapsed": true
   },
   "outputs": [],
   "source": [
    "file.close()\n",
    "dbcon.close()"
   ]
  },
  {
   "cell_type": "code",
   "execution_count": null,
   "metadata": {
    "scrolled": false
   },
   "outputs": [],
   "source": [
    "logging.info(\"word2vec start\")\n",
    "\n",
    "ls = word2vec.LineSentence('text.txt')\n",
    "model = word2vec.Word2Vec(ls, sg=1, size=200, min_count=1, window=5, hs=0, negative=5, iter=5, sample=0.001)\n",
    "\n",
    "logging.info(\"word2vec end\")"
   ]
  },
  {
   "cell_type": "code",
   "execution_count": null,
   "metadata": {
    "scrolled": true
   },
   "outputs": [],
   "source": [
    "results = model.most_similar(positive=[\"パナソニック\"], negative=[], topn=50)\n",
    "for result in results:\n",
    "    print(result[0], '\\t', dic[result[0]], '\\t', result[1])"
   ]
  },
  {
   "cell_type": "code",
   "execution_count": null,
   "metadata": {
    "collapsed": true
   },
   "outputs": [],
   "source": [
    "model.save(\"words.vec\")"
   ]
  }
 ],
 "metadata": {
  "kernelspec": {
   "display_name": "Python 3",
   "language": "python",
   "name": "python3"
  },
  "language_info": {
   "codemirror_mode": {
    "name": "ipython",
    "version": 3
   },
   "file_extension": ".py",
   "mimetype": "text/x-python",
   "name": "python",
   "nbconvert_exporter": "python",
   "pygments_lexer": "ipython3",
   "version": "3.6.3"
  }
 },
 "nbformat": 4,
 "nbformat_minor": 2
}

