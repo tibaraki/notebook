{
 "cells": [
  {
   "cell_type": "code",
   "execution_count": null,
   "metadata": {},
   "outputs": [
    {
     "name": "stderr",
     "output_type": "stream",
     "text": [
      "Bottle v0.12.13 server starting up (using WSGIRefServer())...\n",
      "Listening on http://0.0.0.0:5000/\n",
      "Hit Ctrl-C to quit.\n",
      "\n",
      "127.0.0.1 - - [18/Nov/2017 17:46:55] \"GET / HTTP/1.1\" 200 12\n",
      "127.0.0.1 - - [18/Nov/2017 17:46:55] \"GET /favicon.ico HTTP/1.1\" 404 742\n"
     ]
    }
   ],
   "source": [
    "import os\n",
    "from bottle import route, run\n",
    "\n",
    "@route(\"/\")\n",
    "def hello_world():\n",
    "        return \"Hello World!\"\n",
    "\n",
    "run(host=\"0.0.0.0\", port=int(os.environ.get(\"PORT\", 5000)))"
   ]
  }
 ],
 "metadata": {
  "kernelspec": {
   "display_name": "Python 3",
   "language": "python",
   "name": "python3"
  },
  "language_info": {
   "codemirror_mode": {
    "name": "ipython",
    "version": 3
   },
   "file_extension": ".py",
   "mimetype": "text/x-python",
   "name": "python",
   "nbconvert_exporter": "python",
   "pygments_lexer": "ipython3",
   "version": "3.6.3"
  }
 },
 "nbformat": 4,
 "nbformat_minor": 2
}
