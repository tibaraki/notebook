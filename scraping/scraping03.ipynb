{
 "cells": [
  {
   "cell_type": "code",
   "execution_count": 7,
   "metadata": {
    "collapsed": true
   },
   "outputs": [],
   "source": [
    "import requests\n",
    "import re\n",
    "import operator\n",
    "from time import sleep\n",
    "from bs4 import BeautifulSoup\n",
    "from functools import reduce\n",
    "from datetime import datetime\n",
    "\n",
    "domain = \"https://www.nikkei.com\"\n",
    "startpath = \"/business\""
   ]
  },
  {
   "cell_type": "code",
   "execution_count": 3,
   "metadata": {
    "collapsed": true
   },
   "outputs": [],
   "source": [
    "basesoup = BeautifulSoup(requests.get(domain + startpath).text, \"lxml\")"
   ]
  },
  {
   "cell_type": "code",
   "execution_count": 4,
   "metadata": {
    "collapsed": true
   },
   "outputs": [],
   "source": [
    "links = []\n",
    "for a in basesoup.find_all(\"a\", href=re.compile(\"^/article/.+/$\")):\n",
    "    links.append(domain + a.get(\"href\"))\n",
    "links = list(set(links))"
   ]
  },
  {
   "cell_type": "code",
   "execution_count": 10,
   "metadata": {},
   "outputs": [
    {
     "name": "stdout",
     "output_type": "stream",
     "text": [
      "2017-11-16T17:19:02.534888:(1/47)\n",
      "2017-11-16T17:19:05.292228:(2/47)\n",
      "2017-11-16T17:19:08.140517:(3/47)\n",
      "2017-11-16T17:19:10.976602:(4/47)\n",
      "2017-11-16T17:19:13.798493:(5/47)\n",
      "2017-11-16T17:19:16.652018:(6/47)\n",
      "2017-11-16T17:19:19.667914:(7/47)\n",
      "2017-11-16T17:19:22.359656:(8/47)\n"
     ]
    },
    {
     "ename": "KeyboardInterrupt",
     "evalue": "",
     "output_type": "error",
     "traceback": [
      "\u001b[1;31m---------------------------------------------------------------------------\u001b[0m",
      "\u001b[1;31mKeyboardInterrupt\u001b[0m                         Traceback (most recent call last)",
      "\u001b[1;32m<ipython-input-10-e9d831a32d56>\u001b[0m in \u001b[0;36m<module>\u001b[1;34m()\u001b[0m\n\u001b[0;32m      7\u001b[0m     \u001b[0mres\u001b[0m \u001b[1;33m=\u001b[0m \u001b[0mrequests\u001b[0m\u001b[1;33m.\u001b[0m\u001b[0mget\u001b[0m\u001b[1;33m(\u001b[0m\u001b[0mlink\u001b[0m\u001b[1;33m)\u001b[0m\u001b[1;33m\u001b[0m\u001b[0m\n\u001b[0;32m      8\u001b[0m     \u001b[0mres\u001b[0m\u001b[1;33m.\u001b[0m\u001b[0mencoding\u001b[0m \u001b[1;33m=\u001b[0m \u001b[0mres\u001b[0m\u001b[1;33m.\u001b[0m\u001b[0mapparent_encoding\u001b[0m\u001b[1;33m\u001b[0m\u001b[0m\n\u001b[1;32m----> 9\u001b[1;33m     \u001b[0msoup\u001b[0m \u001b[1;33m=\u001b[0m \u001b[0mBeautifulSoup\u001b[0m\u001b[1;33m(\u001b[0m\u001b[0mres\u001b[0m\u001b[1;33m.\u001b[0m\u001b[0mtext\u001b[0m\u001b[1;33m,\u001b[0m \u001b[1;34m\"lxml\"\u001b[0m\u001b[1;33m)\u001b[0m\u001b[1;33m\u001b[0m\u001b[0m\n\u001b[0m\u001b[0;32m     10\u001b[0m \u001b[1;33m\u001b[0m\u001b[0m\n\u001b[0;32m     11\u001b[0m     \u001b[0mtitle\u001b[0m \u001b[1;33m=\u001b[0m \u001b[0msoup\u001b[0m\u001b[1;33m.\u001b[0m\u001b[0mfind\u001b[0m\u001b[1;33m(\u001b[0m\u001b[1;34m\"meta\"\u001b[0m\u001b[1;33m,\u001b[0m \u001b[0mproperty\u001b[0m\u001b[1;33m=\u001b[0m\u001b[1;34m\"og:title\"\u001b[0m\u001b[1;33m)\u001b[0m\u001b[1;33m.\u001b[0m\u001b[0mget\u001b[0m\u001b[1;33m(\u001b[0m\u001b[1;34m\"content\"\u001b[0m\u001b[1;33m)\u001b[0m\u001b[1;33m.\u001b[0m\u001b[0mstrip\u001b[0m\u001b[1;33m(\u001b[0m\u001b[1;33m)\u001b[0m\u001b[1;33m\u001b[0m\u001b[0m\n",
      "\u001b[1;32m~\\AppData\\Local\\Continuum\\anaconda3\\lib\\site-packages\\bs4\\__init__.py\u001b[0m in \u001b[0;36m__init__\u001b[1;34m(self, markup, features, builder, parse_only, from_encoding, exclude_encodings, **kwargs)\u001b[0m\n\u001b[0;32m    226\u001b[0m             \u001b[0mself\u001b[0m\u001b[1;33m.\u001b[0m\u001b[0mreset\u001b[0m\u001b[1;33m(\u001b[0m\u001b[1;33m)\u001b[0m\u001b[1;33m\u001b[0m\u001b[0m\n\u001b[0;32m    227\u001b[0m             \u001b[1;32mtry\u001b[0m\u001b[1;33m:\u001b[0m\u001b[1;33m\u001b[0m\u001b[0m\n\u001b[1;32m--> 228\u001b[1;33m                 \u001b[0mself\u001b[0m\u001b[1;33m.\u001b[0m\u001b[0m_feed\u001b[0m\u001b[1;33m(\u001b[0m\u001b[1;33m)\u001b[0m\u001b[1;33m\u001b[0m\u001b[0m\n\u001b[0m\u001b[0;32m    229\u001b[0m                 \u001b[1;32mbreak\u001b[0m\u001b[1;33m\u001b[0m\u001b[0m\n\u001b[0;32m    230\u001b[0m             \u001b[1;32mexcept\u001b[0m \u001b[0mParserRejectedMarkup\u001b[0m\u001b[1;33m:\u001b[0m\u001b[1;33m\u001b[0m\u001b[0m\n",
      "\u001b[1;32m~\\AppData\\Local\\Continuum\\anaconda3\\lib\\site-packages\\bs4\\__init__.py\u001b[0m in \u001b[0;36m_feed\u001b[1;34m(self)\u001b[0m\n\u001b[0;32m    287\u001b[0m         \u001b[0mself\u001b[0m\u001b[1;33m.\u001b[0m\u001b[0mbuilder\u001b[0m\u001b[1;33m.\u001b[0m\u001b[0mreset\u001b[0m\u001b[1;33m(\u001b[0m\u001b[1;33m)\u001b[0m\u001b[1;33m\u001b[0m\u001b[0m\n\u001b[0;32m    288\u001b[0m \u001b[1;33m\u001b[0m\u001b[0m\n\u001b[1;32m--> 289\u001b[1;33m         \u001b[0mself\u001b[0m\u001b[1;33m.\u001b[0m\u001b[0mbuilder\u001b[0m\u001b[1;33m.\u001b[0m\u001b[0mfeed\u001b[0m\u001b[1;33m(\u001b[0m\u001b[0mself\u001b[0m\u001b[1;33m.\u001b[0m\u001b[0mmarkup\u001b[0m\u001b[1;33m)\u001b[0m\u001b[1;33m\u001b[0m\u001b[0m\n\u001b[0m\u001b[0;32m    290\u001b[0m         \u001b[1;31m# Close out any unfinished strings and close all the open tags.\u001b[0m\u001b[1;33m\u001b[0m\u001b[1;33m\u001b[0m\u001b[0m\n\u001b[0;32m    291\u001b[0m         \u001b[0mself\u001b[0m\u001b[1;33m.\u001b[0m\u001b[0mendData\u001b[0m\u001b[1;33m(\u001b[0m\u001b[1;33m)\u001b[0m\u001b[1;33m\u001b[0m\u001b[0m\n",
      "\u001b[1;32m~\\AppData\\Local\\Continuum\\anaconda3\\lib\\site-packages\\bs4\\builder\\_lxml.py\u001b[0m in \u001b[0;36mfeed\u001b[1;34m(self, markup)\u001b[0m\n\u001b[0;32m    249\u001b[0m             \u001b[0mself\u001b[0m\u001b[1;33m.\u001b[0m\u001b[0mparser\u001b[0m \u001b[1;33m=\u001b[0m \u001b[0mself\u001b[0m\u001b[1;33m.\u001b[0m\u001b[0mparser_for\u001b[0m\u001b[1;33m(\u001b[0m\u001b[0mencoding\u001b[0m\u001b[1;33m)\u001b[0m\u001b[1;33m\u001b[0m\u001b[0m\n\u001b[0;32m    250\u001b[0m             \u001b[0mself\u001b[0m\u001b[1;33m.\u001b[0m\u001b[0mparser\u001b[0m\u001b[1;33m.\u001b[0m\u001b[0mfeed\u001b[0m\u001b[1;33m(\u001b[0m\u001b[0mmarkup\u001b[0m\u001b[1;33m)\u001b[0m\u001b[1;33m\u001b[0m\u001b[0m\n\u001b[1;32m--> 251\u001b[1;33m             \u001b[0mself\u001b[0m\u001b[1;33m.\u001b[0m\u001b[0mparser\u001b[0m\u001b[1;33m.\u001b[0m\u001b[0mclose\u001b[0m\u001b[1;33m(\u001b[0m\u001b[1;33m)\u001b[0m\u001b[1;33m\u001b[0m\u001b[0m\n\u001b[0m\u001b[0;32m    252\u001b[0m         \u001b[1;32mexcept\u001b[0m \u001b[1;33m(\u001b[0m\u001b[0mUnicodeDecodeError\u001b[0m\u001b[1;33m,\u001b[0m \u001b[0mLookupError\u001b[0m\u001b[1;33m,\u001b[0m \u001b[0metree\u001b[0m\u001b[1;33m.\u001b[0m\u001b[0mParserError\u001b[0m\u001b[1;33m)\u001b[0m \u001b[1;32mas\u001b[0m \u001b[0me\u001b[0m\u001b[1;33m:\u001b[0m\u001b[1;33m\u001b[0m\u001b[0m\n\u001b[0;32m    253\u001b[0m             \u001b[1;32mraise\u001b[0m \u001b[0mParserRejectedMarkup\u001b[0m\u001b[1;33m(\u001b[0m\u001b[0mstr\u001b[0m\u001b[1;33m(\u001b[0m\u001b[0me\u001b[0m\u001b[1;33m)\u001b[0m\u001b[1;33m)\u001b[0m\u001b[1;33m\u001b[0m\u001b[0m\n",
      "\u001b[1;32msrc/lxml/parser.pxi\u001b[0m in \u001b[0;36mlxml.etree._FeedParser.close (src\\lxml\\etree.c:117165)\u001b[1;34m()\u001b[0m\n",
      "\u001b[1;32msrc/lxml/parser.pxi\u001b[0m in \u001b[0;36mlxml.etree._FeedParser.close (src\\lxml\\etree.c:117002)\u001b[1;34m()\u001b[0m\n",
      "\u001b[1;32msrc/lxml/parsertarget.pxi\u001b[0m in \u001b[0;36mlxml.etree._TargetParserContext._handleParseResult (src\\lxml\\etree.c:133309)\u001b[1;34m()\u001b[0m\n",
      "\u001b[1;32msrc/lxml/parsertarget.pxi\u001b[0m in \u001b[0;36mlxml.etree._TargetParserContext._handleParseResult (src\\lxml\\etree.c:133055)\u001b[1;34m()\u001b[0m\n",
      "\u001b[1;32msrc/lxml/etree.pyx\u001b[0m in \u001b[0;36mlxml.etree._ExceptionContext._raise_if_stored (src\\lxml\\etree.c:13244)\u001b[1;34m()\u001b[0m\n",
      "\u001b[1;32msrc/lxml/saxparser.pxi\u001b[0m in \u001b[0;36mlxml.etree._handleSaxEndNoNs (src\\lxml\\etree.c:126583)\u001b[1;34m()\u001b[0m\n",
      "\u001b[1;32msrc/lxml/parsertarget.pxi\u001b[0m in \u001b[0;36mlxml.etree._PythonSaxParserTarget._handleSaxEnd (src\\lxml\\etree.c:132223)\u001b[1;34m()\u001b[0m\n",
      "\u001b[1;32m~\\AppData\\Local\\Continuum\\anaconda3\\lib\\site-packages\\bs4\\builder\\_lxml.py\u001b[0m in \u001b[0;36mend\u001b[1;34m(self, name)\u001b[0m\n\u001b[0;32m    203\u001b[0m                     \u001b[1;32mbreak\u001b[0m\u001b[1;33m\u001b[0m\u001b[0m\n\u001b[0;32m    204\u001b[0m         \u001b[0mself\u001b[0m\u001b[1;33m.\u001b[0m\u001b[0msoup\u001b[0m\u001b[1;33m.\u001b[0m\u001b[0mhandle_endtag\u001b[0m\u001b[1;33m(\u001b[0m\u001b[0mname\u001b[0m\u001b[1;33m,\u001b[0m \u001b[0mnsprefix\u001b[0m\u001b[1;33m)\u001b[0m\u001b[1;33m\u001b[0m\u001b[0m\n\u001b[1;32m--> 205\u001b[1;33m         \u001b[1;32mif\u001b[0m \u001b[0mlen\u001b[0m\u001b[1;33m(\u001b[0m\u001b[0mself\u001b[0m\u001b[1;33m.\u001b[0m\u001b[0mnsmaps\u001b[0m\u001b[1;33m)\u001b[0m \u001b[1;33m>\u001b[0m \u001b[1;36m1\u001b[0m\u001b[1;33m:\u001b[0m\u001b[1;33m\u001b[0m\u001b[0m\n\u001b[0m\u001b[0;32m    206\u001b[0m             \u001b[1;31m# This tag, or one of its parents, introduced a namespace\u001b[0m\u001b[1;33m\u001b[0m\u001b[1;33m\u001b[0m\u001b[0m\n\u001b[0;32m    207\u001b[0m             \u001b[1;31m# mapping, so pop it off the stack.\u001b[0m\u001b[1;33m\u001b[0m\u001b[1;33m\u001b[0m\u001b[0m\n",
      "\u001b[1;31mKeyboardInterrupt\u001b[0m: "
     ]
    }
   ],
   "source": [
    "texts = []\n",
    "count = 0\n",
    "\n",
    "for link in links:\n",
    "    sleep(2)\n",
    "\n",
    "    res = requests.get(link)\n",
    "    res.encoding = res.apparent_encoding\n",
    "    soup = BeautifulSoup(res.text, \"lxml\")\n",
    "\n",
    "    title = soup.find(\"meta\", property=\"og:title\").get(\"content\").strip()\n",
    "    main = soup.find(\"meta\", property=\"og:description\").get(\"content\").strip()\n",
    "    text = (title + \" \" + main).replace(\"\\u3000\",\" \").replace(\"（ニュースこう読む）\",\"\")\n",
    "\n",
    "    texts.append(text)\n",
    "    \n",
    "    count = count + 1\n",
    "    print (datetime.now().isoformat()+\":(\"+str(count)+\"/\"+str(len(links))+\")\")"
   ]
  },
  {
   "cell_type": "code",
   "execution_count": 39,
   "metadata": {},
   "outputs": [
    {
     "name": "stdout",
     "output_type": "stream",
     "text": [
      "sqlite3: UNIQUE constraint failed: rawtext.id\n",
      "sqlite3: UNIQUE constraint failed: rawtext.id\n",
      "sqlite3: UNIQUE constraint failed: rawtext.id\n",
      "sqlite3: UNIQUE constraint failed: rawtext.id\n",
      "sqlite3: UNIQUE constraint failed: rawtext.id\n",
      "sqlite3: UNIQUE constraint failed: rawtext.id\n",
      "sqlite3: UNIQUE constraint failed: rawtext.id\n",
      "sqlite3: UNIQUE constraint failed: rawtext.id\n",
      "sqlite3: UNIQUE constraint failed: rawtext.id\n",
      "sqlite3: UNIQUE constraint failed: rawtext.id\n",
      "sqlite3: UNIQUE constraint failed: rawtext.id\n",
      "sqlite3: UNIQUE constraint failed: rawtext.id\n",
      "sqlite3: UNIQUE constraint failed: rawtext.id\n",
      "sqlite3: UNIQUE constraint failed: rawtext.id\n",
      "sqlite3: UNIQUE constraint failed: rawtext.id\n",
      "sqlite3: UNIQUE constraint failed: rawtext.id\n",
      "sqlite3: UNIQUE constraint failed: rawtext.id\n",
      "sqlite3: UNIQUE constraint failed: rawtext.id\n",
      "sqlite3: UNIQUE constraint failed: rawtext.id\n",
      "sqlite3: UNIQUE constraint failed: rawtext.id\n",
      "sqlite3: UNIQUE constraint failed: rawtext.id\n",
      "sqlite3: UNIQUE constraint failed: rawtext.id\n",
      "sqlite3: UNIQUE constraint failed: rawtext.id\n",
      "sqlite3: UNIQUE constraint failed: rawtext.id\n",
      "sqlite3: UNIQUE constraint failed: rawtext.id\n",
      "sqlite3: UNIQUE constraint failed: rawtext.id\n",
      "sqlite3: UNIQUE constraint failed: rawtext.id\n",
      "sqlite3: UNIQUE constraint failed: rawtext.id\n",
      "sqlite3: UNIQUE constraint failed: rawtext.id\n",
      "sqlite3: UNIQUE constraint failed: rawtext.id\n",
      "sqlite3: UNIQUE constraint failed: rawtext.id\n",
      "sqlite3: UNIQUE constraint failed: rawtext.id\n",
      "sqlite3: UNIQUE constraint failed: rawtext.id\n",
      "sqlite3: UNIQUE constraint failed: rawtext.id\n",
      "sqlite3: UNIQUE constraint failed: rawtext.id\n",
      "sqlite3: UNIQUE constraint failed: rawtext.id\n",
      "sqlite3: UNIQUE constraint failed: rawtext.id\n",
      "sqlite3: UNIQUE constraint failed: rawtext.id\n",
      "sqlite3: UNIQUE constraint failed: rawtext.id\n",
      "sqlite3: UNIQUE constraint failed: rawtext.id\n",
      "sqlite3: UNIQUE constraint failed: rawtext.id\n",
      "sqlite3: UNIQUE constraint failed: rawtext.id\n",
      "sqlite3: UNIQUE constraint failed: rawtext.id\n",
      "sqlite3: UNIQUE constraint failed: rawtext.id\n",
      "sqlite3: UNIQUE constraint failed: rawtext.id\n",
      "sqlite3: UNIQUE constraint failed: rawtext.id\n",
      "sqlite3: UNIQUE constraint failed: rawtext.id\n",
      "sqlite3: UNIQUE constraint failed: rawtext.id\n"
     ]
    }
   ],
   "source": [
    "import sqlite3\n",
    "import hashlib\n",
    "\n",
    "dbname = \"text.db\"\n",
    "dbcon = sqlite3.connect(dbname)\n",
    "dbcur = dbcon.cursor()\n",
    "\n",
    "for text in texts:\n",
    "    insert = \"INSERT INTO rawtext(id, source, time, rawtext) VALUES(?, ?, ?, ?)\"\n",
    "\n",
    "    id = hashlib.md5(text.encode(\"utf-8\")).hexdigest()\n",
    "    source = \"日経新聞（ビジネス）\"\n",
    "    time = datetime.now().isoformat()\n",
    "    \n",
    "    args = (id, source, time, text)\n",
    "    \n",
    "    try:\n",
    "        dbcur.execute(insert, args)\n",
    "    except sqlite3.Error as e:\n",
    "        print('sqlite3:', e.args[0])\n",
    "    \n",
    "dbcon.commit()\n",
    "dbcon.close()\n",
    "print (datetime.now().isoformat()+\":db written\")"
   ]
  },
  {
   "cell_type": "code",
   "execution_count": 32,
   "metadata": {},
   "outputs": [
    {
     "data": {
      "text/plain": [
       "['世界の住環境を変えるために何が必要ですか 瀬戸欣哉社長の提示した「世界の住環境を変えるために何が必要ですか」という課題に対し多数のご投稿をいただきました。紙面掲載分を含めて、当コーナーでその一部をご紹介します。',\n",
       " 'ヤマト、年末の時給2000円 物流人材争奪戦 インターネット通販の繁忙期の12月を控え、物流関連のアルバイトなどの時給が高騰している。宅配最大手のヤマト運輸は一部の地域で2000円で運転手の募集を始めた。アマゾンジャパン（東京・目黒）も倉庫作業',\n",
       " '2020年の宅急便に求められる機能は何ですか 世の中が変化するスピードは、想定していた以上のものでした。ネット通販などデジタル社会の進展で宅急便の取扱数量が急増し、また労働需給の逼迫が急速に進んだことで、社員に負担をかけてしまいました。こうした',\n",
       " 'スマホを振ってタクシーを呼ぼう タクシー大手の国際自動車（東京・港）は利用者がスマートフォン（スマホ）を振ると、タクシー乗務員に居場所が伝わるサービスを始めた。配車を約束するわけではないが、利用者と乗務員がお互いに探しやすくなる。',\n",
       " '日立、医療機器保守など集約 診療所向け事業 日立製作所は15日、医療機器の保守や電子カルテ事業を子会社に集約すると発表した。診療所向け事業を日立メディカルコンピュータ（東京・品川）に2018年４月１日付で集約し、社名を変更する。本体の社員75',\n",
       " 'シスコ、減収続く ８～10月は２％減 【シリコンバレー＝佐藤浩実】米ＩＴ大手のシスコシステムズが15日発表した2017年８～10月期決算は売上高が前年同期比２％減の121億3600万ドル（約１兆3700億円）だった。前年実績を下回るのは',\n",
       " '保育所に職場併設 Ｓ・Ｓ・Ｍがコールセンター 東阪など12カ所 保育所運営や保育士仲介を手掛けるＳ・Ｓ・Ｍ（大阪市）は保育所に電話営業を担当するコールセンターを併設して子供を持つ母親に働く場を提供する。大阪や東京を中心に2019年春までに12カ所展開する。満員電',\n",
       " '「車載パネル、特注品に力」 月崎義幸・Ｊディスプレイ執行役員 液晶大手のジャパンディスプレイ（ＪＤＩ）は10月、車載パネル事業の売上高を今後３年間で６割増の1500億円規模に引き上げる方針を示した。スマートフォン（スマホ）向けに次ぐ「第２の柱」となる車載パネル',\n",
       " '大日本住友、中国でＭＲ大幅増員 精神疾患薬に対応 大日本住友製薬は2022年までに、中国で精神疾患の治療薬のＭＲ（医薬情報担当者）を現在の30人から100人まで３倍強に増やす。同社は18年度をめどに、米国で年間1700億円以上を売り上げる主力の抗精',\n",
       " '「番人」退場で金融株が再浮上も（写真＝ＡＰ） 15日の米株式市場でダウ工業株30種平均は大幅に続落した。アジア・欧州株の下落や原油安に加え、米税制改革の先行き不安ものしかかり、投資リスクを避けようとする「リスクオフ」の動きが強まった。先高観が消',\n",
       " 'スタッドレスタイヤ価格、軽自動車と技術の壁 スタッドレスタイヤのメーカー各社が今秋、原料高を理由に６年ぶりに値上げした。ただ単価はここ数年、値下がり傾向にある。価格帯の安いタイヤを使う軽自動車の普及と、タイヤの技術開発の限界という２つの要因が',\n",
       " 'アイカ工業、台湾の樹脂メーカーにＴＯＢ、37億円で子会社化目指す アイカ工業は15日、ウレタン樹脂などの製造販売を手がける台湾のエバモア・ケミカル・インダストリーにＴＯＢ（株式公開買い付け）を実施すると発表した。発行済み株式の50.1％の獲得を目指す。買収額は約3',\n",
       " '４行連合、問われる真価 地域振興へ事業本格化（転機の四国金融(上)） 四国創生を旗印に地銀４行（阿波、百十四、伊予、四国）が１年前に結んだ包括提携「四国アライアンス」。2017年４月からは商品の共同開発や取引先の相互紹介など実行段階に入った。背景には加速する人口減への',\n",
       " '日本版ライドシェア、号砲か 予想外の展開にタクシー業界では波紋が広がったという。北九州市に本社を置く中堅タクシー会社、三ケ森タクシーの貞包健一社長が10月24日に政府の規制改革推進会議のヒアリングで「ライドシェアの良さを研究し',\n",
       " '無線タグでボールの動き丸裸 ＮＦＬのＩｏＴ革命 2017年シーズンの総収益が140億ドルにも達すると見られている、世界最高峰の売り上げを誇るスポーツリーグ、米プロフットボールＮＦＬ。2018年２月４日に開催予定の優勝決定戦「第52回スーパーボウル',\n",
       " '初任給40万円 中国・華為になびく日本人たち 「初任給40万円」「これじゃ優秀な人はどんどん流れていってしまうね」――。中国の通信機器大手、華為技術（ファーウェイ）の求人情報がインターネットを騒がせたのはこの夏のこと。スマートフォンの出荷が１億',\n",
       " '働き手に「報酬前払い」、クラウドワークスが融資で 企業と個人がネット上で仕事を受発注できるクラウドソーシング大手のクラウドワークスは、年内に「報酬前払い」サービスを始める。働き手の過去の仕事実績などを基に信用度を予測し、仕事の案件に取りかかる前に報',\n",
       " '安川電機など、福祉機器の連携研究 介護時の排せつ支援 安川電機、ＴＯＴＯ、パラマウントベッド（東京・江東）と北九州市は福祉機器に関する研究を始めると15日発表した。要介護者がスムーズに排せつできるよう各社の機器を連動させる。市は国家戦略特区を利用した「',\n",
       " '製薬会社は世界を変えるため何ができますか 真鍋淳社長の提示した「製薬会社は世界を変えるため何ができますか」という課題に対し多数のご投稿をいただきました。紙面掲載分を含めて、当コーナーでその一部をご紹介します。',\n",
       " 'バンダイナムコ、スマホ「ガチャ」で誤表示 バンダイナムコエンターテインメントは15日、配信しているスマートフォン（スマホ）向けゲームで「ガチャ」と呼ばれる有料の電子くじに誤表示があったと発表した。消費者庁は状況を把握していないと示したうえで',\n",
       " 'ロシア革命から100年（鈴木幸一氏） 香港に行く。金曜日の夜、待ち合わせのレストランまで、ホテルから歩いてみる。香港の中心部は、高層ビルの間が歩道のようにつながっていて、ビルからビルをたどると、だいたいその場所にたどり着く。香港で最大の',\n",
       " '明治が新研究所、統合の優等生も商品開発で課題 明治ホールディングス（ＨＤ）傘下の明治は15日、約200億円を投じて東京都八王子市に完成した新研究所「明治イノベーションセンター」を公開した。乳業と製菓の２部門で分かれていた研究者を集結させる。明治',\n",
       " '１本5000万円？ がん特効薬、上陸の衝撃 遺伝子改変Ｔ細胞療法――。やや難解な名称だが、がんを撲滅する可能性があるとして、医薬品業界が最も注目している新技術だ。「ＣＡＲ―Ｔ」や「ＴＣＲ―Ｔ」とも呼ばれ、世界中の製薬会社がこれを応用した新薬開',\n",
       " 'スイフトスポーツ、旋回性能向上（新製品・解剖） 2011年発売の２代目を全面改良した３代目。スポーツ走行性能の高いハッチバック車「ホットハッチ」としての性格を一段と鮮明にした。先代に比べ動力性能を高める一方で、車体を1000キログラム以下に軽量化',\n",
       " 'ファーストリテイリング柳井正会長「世界で通用する商品を」 ――アジアを中心に海外事業が伸びています。 「世界経済は今までにないほど好景気だ。長期的にみて景気後退はあるかもしれないが、発展途上国で中産階級が増えてくる。誰もが着ることのできるライフウエア（究極',\n",
       " '地銀８行中６行で減益 四国４県４～９月 単体の実質業務純益 四国４県の地方銀行８行の2017年４～９月期決算が出そろった。貸出金利回りの低下は続き、本業のもうけを示す実質業務純益（単体）は６行で減った。ただ、融資先の業績好転で与信関連費が減るなどして６行で純',\n",
       " 'ドローンに盲点、超音波攻撃に備えよ アリババが指摘 ドローンの姿勢維持やＶＲ（仮想現実）機能を搭載したヘッドマウントディスプレー（ＨＭＤ）の位置推定に欠かせないのが、加速度センサーやジャイロセンサーである。これらのセンサーに意外な弱点があることが明ら',\n",
       " '鉄道トラブルなぜ増える 「能力ある人集まらない」 鉄道トラブルに異変が起きている。運転見合わせや遅延の原因といえば「人身事故」「大雨・強風」と相場が決まっていたが、最近増えているのは「停電」や「架線障害」といった電気系のトラブルだ。15日午前も東急',\n",
       " '東芝、テレビ事業を中国家電大手に売却 129億円 東芝は14日、赤字が続いていたテレビ事業の連結子会社、東芝映像ソリューション（青森県三沢市）を中国電機大手の海信集団（ハイセンス）に売却すると発表した。子会社の株式95％を約129億円で売却する。2',\n",
       " 'プリンター、高価格品が売れ筋 高機能カメラ普及で 年賀状の作成時期に活躍するのが家庭用プリンターだ。最近は高画質の印刷が可能な高性能製品の売り上げが伸びている。店頭では３万円以上の製品が売れ筋。高機能カメラの普及で画質を落とさず印刷したい層の支持を',\n",
       " '東急不、東京都心の高額マンションの販売拡大 東急不動産が千代田や港などの東京都心６区で平均価格１億円以上の高額マンションの販売を加速する。都心物件の販売担当者を２割増やし、2018年３月期は六本木や永田町など４物件を発売。年１件前後だった供給',\n",
       " '米ターゲット、増収減益 年末商戦に厳しい見通し示す 【ニューヨーク＝河内真帆】米ディスカウントストア２位のターゲットが15日発表した2017年８～10月期決算は、売上高が前年同期比１％増の166億6700万ドル（約１兆8800億円）となった。品ぞろえ',\n",
       " 'ＪＩＳ・ＩＳＯ取り消し 神鋼子会社、２度目の法令違反 神戸製鋼所は15日、子会社のコベルコマテリアル銅管の秦野工場（神奈川県秦野市）の銅管製品が日本工業規格（ＪＩＳ）の認証を取り消されたと正式発表した。同工場は国際標準化機構（ＩＳＯ）の品質管理に関する',\n",
       " 'お掃除ロボ、業務用にも 都内に展示施設・外資も参入 商業ビルや駅で目にする業務用清掃機器で、ロボット型の活用が広がりそうだ。メーカーが連携して、導入を検討する事業者が試運転などに使える施設を設けるほか、2018年には外資大手が相次いで新製品を投入する',\n",
       " 'ＢＧＭ料支払いで和解 店のＢＧＭとして楽曲を無断で使用するのは著作権侵害だとして、日本音楽著作権協会（ＪＡＳＲＡＣ）が高松市のジャマイカ料理店の男性経営者（48）に使用差し止めや損害賠償を求めた訴訟は、男性経営者側が使用',\n",
       " 'アパレル不況は本当か 10万円ダウン完売の謎 繁華街から15分も歩く東京・渋谷の静かな通りで、１着10万円のダウンジャケットが飛ぶように売れる。一方、駅前の百貨店のアパレル売り場は閑古鳥が鳴く。業界の人々は「アパレル不況」と一口で言うが、本当だ',\n",
       " '良品計画、2400品目を値下げ 2018年１月から 衣料雑貨店「無印良品」を運営する良品計画は2018年１月から、全体の４割に当たる約2400品目の商品を値下げする。対象は家具や生活雑貨が中心で、同社として過去最大規模の価格改定となる。消費者の節約傾',\n",
       " '造船、高揚感なき受注回復 韓中勢の背中遠く 日本の造船業界に不況の出口が見えてきた。日本船舶輸出組合が15日発表した10月の輸出船契約実績で、受注残が22カ月ぶりに前月比でプラスに転じた。だが現場に安堵は広がるが、高揚感はない。韓国・中国勢が',\n",
       " '神鋼、認証取り消し相次ぐ 子会社の別製品でも 神戸製鋼所のアルミ・銅製部材のデータ改ざん問題を巡り、国内工場で認証の取り消しや一時停止が相次いでいる。神鋼は15日、子会社のコベルコマテリアル銅管の秦野工場（神奈川県秦野市）の銅管製品が日本工業規',\n",
       " 'ｉＰｈｏｎｅＸ、中古市場で１割高 新品の品薄で ３日に発売された米アップルの「ｉＰｈｏｎｅＸ（テン）」が中古市場で高値となっている。生産の遅れで品薄が続き、新品は入手までに１カ月前後かかる。最新機種をすぐに入手できる中古品が人気を集め、オークショ',\n",
       " 'ものづくり工房の米テックショップ、経営破綻 【シリコンバレー＝藤田満美子】ものづくり工房を運営する米テックショップは15日、米連邦破産法７条の適用を申請することを明らかにした。同日付で米国内で運営する全10店を閉鎖し、清算手続きに入った。採算',\n",
       " 'ワタミ、脱「和民」で客戻る ４年ぶり経常黒字 ワタミが低迷から脱しつつある。14日発表した2017年４～９月期の連結決算は経常損益が赤字予想から一転、４年ぶりの黒字に転換した。主力の居酒屋「和民」の看板を外して焼き鳥店などへの転換を一気に進め、',\n",
       " '東芝vsＷＤ 契約書の中に「こじれたＩ（アイ）」 東芝による半導体メモリー子会社「東芝メモリ」の売却を巡り、米ウエスタンデジタル（ＷＤ）が同子会社の売却を暫定的に差し止めるよう、国際仲裁裁判所に申し立てる準備を進めている。東芝は米ベインキャピタルが',\n",
       " 'ＷＤミリガンＣＥＯ「激変の時代、Ｍ＆Ａ不可欠」 ――半導体メモリーの市況は絶好調です。 「数年は堅調に健全な形で伸び続けるだろう。足元の供給不足は2018年上期まで続く。その後の供給側の動きは不透明な面もあるが、需要は高く伸び続けるだろう」 ――',\n",
       " '消された東芝の再生シナリオ（ガバナンスの掟） 東芝の半導体メモリー事業の売却先が日米韓連合に決まった。東芝は上場廃止基準に触れる２期連続の債務超過を回避する可能性が出てきたが、上場廃止や法的整理を覚悟の上で半導体メモリー事業を温存して再建を目指',\n",
       " '揺れる就活ビジネス 王者リクナビの悩み（就活探偵団） 超売り手市場だった2018年卒業予定の大学生による就活戦線。環境変化の中で、就活ビジネスも岐路に立っている。就活情報サイトのトップランナー「リクナビ」はいまや就職希望者が当たり前のように登録するイン',\n",
       " '工芸品 メッキ原理で製作 太洋工業、デザイナー需要にらむ メッキの原理でクラフト作品を製作します――。プリント基板製造の太洋工業は顧客のデザイン画を基に金属で切り絵のようなクラフト作品を作るサービスを始めた。マイクロ（マイクロは100万分の１）メートル単位',\n",
       " 'ＩｏＴ通信 はや価格競争 ＫＤＤＩ、月４０円で来年から ＫＤＤＩはあらゆるモノをネットにつなぐ「ＩｏＴ」向けに月額40円から利用できる通信サービスを2018年１月に開始する。携帯大手では最安値となる。企業向けのＩｏＴ通信は成長分野のため京セラ子会社など新']"
      ]
     },
     "execution_count": 32,
     "metadata": {},
     "output_type": "execute_result"
    }
   ],
   "source": []
  }
 ],
 "metadata": {
  "kernelspec": {
   "display_name": "Python 3",
   "language": "python",
   "name": "python3"
  },
  "language_info": {
   "codemirror_mode": {
    "name": "ipython",
    "version": 3
   },
   "file_extension": ".py",
   "mimetype": "text/x-python",
   "name": "python",
   "nbconvert_exporter": "python",
   "pygments_lexer": "ipython3",
   "version": "3.6.3"
  }
 },
 "nbformat": 4,
 "nbformat_minor": 2
}
