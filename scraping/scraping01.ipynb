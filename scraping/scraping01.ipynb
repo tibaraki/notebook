{
 "cells": [
  {
   "cell_type": "code",
   "execution_count": 1,
   "metadata": {
    "collapsed": true
   },
   "outputs": [],
   "source": [
    "import requests\n",
    "import re\n",
    "from time import sleep\n",
    "from bs4 import BeautifulSoup\n",
    "\n",
    "domain = \"https://www.kobe-np.co.jp\"\n",
    "startpath = \"/news/keizai\""
   ]
  },
  {
   "cell_type": "code",
   "execution_count": 2,
   "metadata": {
    "collapsed": true
   },
   "outputs": [],
   "source": [
    "basesoup = BeautifulSoup(requests.get(domain + startpath).text, \"lxml\")"
   ]
  },
  {
   "cell_type": "code",
   "execution_count": 3,
   "metadata": {
    "collapsed": true
   },
   "outputs": [],
   "source": [
    "links = []\n",
    "for a in basesoup.find_all(\"a\", href=re.compile(\"/news/keizai/[0-9]+/.*\")):\n",
    "    links.append(domain + a.get(\"href\"))"
   ]
  },
  {
   "cell_type": "code",
   "execution_count": 4,
   "metadata": {},
   "outputs": [],
   "source": [
    "texts = []\n",
    "for link in links[:3]:\n",
    "    sleep(1)\n",
    "    soup = BeautifulSoup(requests.get(link).text, \"lxml\")\n",
    "    texts.append(soup.find(\"div\", class_=\"news-contents\").text.strip())"
   ]
  },
  {
   "cell_type": "code",
   "execution_count": 5,
   "metadata": {},
   "outputs": [
    {
     "data": {
      "text/plain": [
       "'神戸製鋼所神戸本社＝神戸市中央区脇浜海岸通２\\n\\n\\u3000神戸製鋼所は１５日、製品検査データを改ざんしていたアルミ・銅事業部門に、製造担当から独立した品質保証部を新設し、関連人事を発令した。検査データを長期間、複数の社員が改ざんしていた長府製造所（山口県下関市）など国内３拠点では、品質保証担当を製造部門から切り離した。一方、顧客対応に専念させるため工場長２人の職務を解いた。\\u3000いずれも、不正の原因究明と再発防止策の報告書をまとめた１０日付。新設した品質保証部には３人を充て、各拠点の監査や法令順守（コンプライアンス）教育を担う。部長には大安工場（三重県いなべ市）の主任部員が就いた。\\u3000大安工場長と長府製造所アルミ押出工場長は、担当部長に事実上降格した。納入先の自動車や航空機部品、鉄道車両メーカーなどとの対応に当たる。同社秘書広報部は「社内処分は外部委員会の調査結果を待って発令する。今回の異動は関係ない」としている。\\u3000同時に、大安工場を大安製造所に改称。サスペンション、アルミ鋳鍛の２工場を置いた。（高見雄樹）'"
      ]
     },
     "execution_count": 5,
     "metadata": {},
     "output_type": "execute_result"
    }
   ],
   "source": [
    "texts[0]"
   ]
  }
 ],
 "metadata": {
  "kernelspec": {
   "display_name": "Python 3",
   "language": "python",
   "name": "python3"
  },
  "language_info": {
   "codemirror_mode": {
    "name": "ipython",
    "version": 3
   },
   "file_extension": ".py",
   "mimetype": "text/x-python",
   "name": "python",
   "nbconvert_exporter": "python",
   "pygments_lexer": "ipython3",
   "version": "3.6.3"
  }
 },
 "nbformat": 4,
 "nbformat_minor": 2
}
