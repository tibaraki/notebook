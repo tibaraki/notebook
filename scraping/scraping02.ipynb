{
 "cells": [
  {
   "cell_type": "code",
   "execution_count": 1,
   "metadata": {
    "collapsed": true
   },
   "outputs": [],
   "source": [
    "import requests\n",
    "import re\n",
    "import operator\n",
    "from time import sleep\n",
    "from bs4 import BeautifulSoup\n",
    "from functools import reduce\n",
    "from datetime import datetime\n",
    "\n",
    "domain = \"https://www.nikkan.co.jp\"\n",
    "startpath = \"/\""
   ]
  },
  {
   "cell_type": "code",
   "execution_count": 2,
   "metadata": {
    "collapsed": true
   },
   "outputs": [],
   "source": [
    "basesoup = BeautifulSoup(requests.get(domain + startpath).text, \"lxml\")"
   ]
  },
  {
   "cell_type": "code",
   "execution_count": 3,
   "metadata": {
    "collapsed": true
   },
   "outputs": [],
   "source": [
    "links = []\n",
    "for a in basesoup.find_all(\"a\", href=re.compile(\"^/articles/view/[0-9]+\")):\n",
    "    links.append(domain + a.get(\"href\"))\n",
    "links = list(set(links))"
   ]
  },
  {
   "cell_type": "code",
   "execution_count": 4,
   "metadata": {},
   "outputs": [
    {
     "name": "stdout",
     "output_type": "stream",
     "text": [
      "2017-11-16T17:28:12.631621:(1/220)\n",
      "2017-11-16T17:28:15.671669:(2/220)\n",
      "2017-11-16T17:28:18.598072:(3/220)\n",
      "2017-11-16T17:28:21.647107:(4/220)\n",
      "2017-11-16T17:28:24.534836:(5/220)\n",
      "2017-11-16T17:28:27.369914:(6/220)\n",
      "2017-11-16T17:28:30.460937:(7/220)\n",
      "2017-11-16T17:28:33.292681:(8/220)\n",
      "2017-11-16T17:28:36.290981:(9/220)\n",
      "2017-11-16T17:28:39.162009:(10/220)\n",
      "2017-11-16T17:28:42.124693:(11/220)\n",
      "2017-11-16T17:28:45.071747:(12/220)\n",
      "2017-11-16T17:28:47.936547:(13/220)\n",
      "2017-11-16T17:28:50.751683:(14/220)\n",
      "2017-11-16T17:28:53.621995:(15/220)\n",
      "2017-11-16T17:28:56.675449:(16/220)\n",
      "2017-11-16T17:28:59.501685:(17/220)\n",
      "2017-11-16T17:29:02.644106:(18/220)\n"
     ]
    },
    {
     "ename": "KeyboardInterrupt",
     "evalue": "",
     "output_type": "error",
     "traceback": [
      "\u001b[1;31m---------------------------------------------------------------------------\u001b[0m",
      "\u001b[1;31mKeyboardInterrupt\u001b[0m                         Traceback (most recent call last)",
      "\u001b[1;32m<ipython-input-4-fbef4db75751>\u001b[0m in \u001b[0;36m<module>\u001b[1;34m()\u001b[0m\n\u001b[0;32m      3\u001b[0m \u001b[1;33m\u001b[0m\u001b[0m\n\u001b[0;32m      4\u001b[0m \u001b[1;32mfor\u001b[0m \u001b[0mlink\u001b[0m \u001b[1;32min\u001b[0m \u001b[0mlinks\u001b[0m\u001b[1;33m:\u001b[0m\u001b[1;33m\u001b[0m\u001b[0m\n\u001b[1;32m----> 5\u001b[1;33m     \u001b[0msleep\u001b[0m\u001b[1;33m(\u001b[0m\u001b[1;36m2\u001b[0m\u001b[1;33m)\u001b[0m\u001b[1;33m\u001b[0m\u001b[0m\n\u001b[0m\u001b[0;32m      6\u001b[0m     \u001b[0mres\u001b[0m \u001b[1;33m=\u001b[0m \u001b[0mrequests\u001b[0m\u001b[1;33m.\u001b[0m\u001b[0mget\u001b[0m\u001b[1;33m(\u001b[0m\u001b[0mlink\u001b[0m\u001b[1;33m)\u001b[0m\u001b[1;33m\u001b[0m\u001b[0m\n\u001b[0;32m      7\u001b[0m     \u001b[0mres\u001b[0m\u001b[1;33m.\u001b[0m\u001b[0mencoding\u001b[0m \u001b[1;33m=\u001b[0m \u001b[0mres\u001b[0m\u001b[1;33m.\u001b[0m\u001b[0mapparent_encoding\u001b[0m\u001b[1;33m\u001b[0m\u001b[0m\n",
      "\u001b[1;31mKeyboardInterrupt\u001b[0m: "
     ]
    }
   ],
   "source": [
    "texts = []\n",
    "count = 0\n",
    "\n",
    "for link in links:\n",
    "    sleep(2)\n",
    "    res = requests.get(link)\n",
    "    res.encoding = res.apparent_encoding\n",
    "    soup = BeautifulSoup(res.text, \"lxml\")\n",
    "\n",
    "    title = reduce(operator.add ,[x.text.strip() for x in soup.find_all(\"div\", class_=\"ttl\")], \"\")\n",
    "    main = reduce(operator.add ,[x.text.strip() for x in soup.find_all(\"p\", style=\"text-indent:1em;\")], \"\")\n",
    "    text = (title + \" \" + main).replace(\"\\u3000\",\" \")\n",
    "    texts.append(text)\n",
    "    \n",
    "    count = count + 1\n",
    "    print (datetime.now().isoformat()+\":(\"+str(count)+\"/\"+str(len(links))+\")\")"
   ]
  },
  {
   "cell_type": "code",
   "execution_count": 14,
   "metadata": {
    "collapsed": true
   },
   "outputs": [],
   "source": [
    "import sqlite3\n",
    "import hashlib\n",
    "\n",
    "dbname = \"text.db\"\n",
    "dbcon = sqlite3.connect(dbname)\n",
    "dbcur = dbcon.cursor()\n",
    "\n",
    "for text in texts:\n",
    "    insert = \"INSERT INTO rawtext(id, source, time, rawtext) VALUES(?, ?, ?, ?)\"\n",
    "\n",
    "    id = hashlib.md5(text.encode(\"utf-8\")).hexdigest()\n",
    "    source = \"日刊工業新聞\"\n",
    "    time = datetime.now().isoformat()\n",
    "    \n",
    "    args = (id, source, time, text)\n",
    "    \n",
    "    try:\n",
    "        dbcur.execute(insert, args)\n",
    "    except sqlite3.Error as e:\n",
    "        print('sqlite3:', e.args[0])\n",
    "    \n",
    "dbcon.commit()\n",
    "dbcon.close()\n",
    "print (datetime.now().isoformat()+\":db written\")"
   ]
  }
 ],
 "metadata": {
  "kernelspec": {
   "display_name": "Python 3",
   "language": "python",
   "name": "python3"
  },
  "language_info": {
   "codemirror_mode": {
    "name": "ipython",
    "version": 3
   },
   "file_extension": ".py",
   "mimetype": "text/x-python",
   "name": "python",
   "nbconvert_exporter": "python",
   "pygments_lexer": "ipython3",
   "version": "3.6.3"
  }
 },
 "nbformat": 4,
 "nbformat_minor": 2
}
