{
 "cells": [
  {
   "cell_type": "code",
   "execution_count": 10,
   "metadata": {
    "collapsed": true
   },
   "outputs": [],
   "source": [
    "import requests\n",
    "import re\n",
    "import operator\n",
    "from time import sleep\n",
    "from bs4 import BeautifulSoup\n",
    "from functools import reduce\n",
    "\n",
    "domain = \"https://www.nikkan.co.jp\"\n",
    "startpath = \"/\""
   ]
  },
  {
   "cell_type": "code",
   "execution_count": 11,
   "metadata": {
    "collapsed": true
   },
   "outputs": [],
   "source": [
    "basesoup = BeautifulSoup(requests.get(domain + startpath).text, \"lxml\")"
   ]
  },
  {
   "cell_type": "code",
   "execution_count": 12,
   "metadata": {
    "collapsed": true
   },
   "outputs": [],
   "source": [
    "links = []\n",
    "for a in basesoup.find_all(\"a\", href=re.compile(\"^/articles/view/[0-9]+\")):\n",
    "    links.append(domain + a.get(\"href\"))\n",
    "links = list(set(links))"
   ]
  },
  {
   "cell_type": "code",
   "execution_count": 13,
   "metadata": {},
   "outputs": [],
   "source": [
    "texts = []\n",
    "for link in links:\n",
    "    sleep(2)\n",
    "    res = requests.get(link)\n",
    "    res.encoding = res.apparent_encoding\n",
    "    soup = BeautifulSoup(res.text, \"lxml\")\n",
    "\n",
    "    title = reduce(operator.add ,[x.text.strip() for x in soup.find_all(\"div\", class_=\"ttl\")], \"\")\n",
    "    main = reduce(operator.add ,[x.text.strip() for x in soup.find_all(\"p\", style=\"text-indent:1em;\")], \"\")\n",
    "    text = (title + \" \" + main).replace(\"\\u3000\",\" \")\n",
    "    texts.append(text)"
   ]
  },
  {
   "cell_type": "code",
   "execution_count": 14,
   "metadata": {},
   "outputs": [],
   "source": [
    "import sqlite3\n",
    "import hashlib\n",
    "from datetime import datetime\n",
    "\n",
    "dbname = \"text.db\"\n",
    "dbcon = sqlite3.connect(dbname)\n",
    "dbcur = dbcon.cursor()\n",
    "\n",
    "for text in texts:\n",
    "    insert = \"INSERT INTO rawtext(id, source, time, rawtext) VALUES(?, ?, ?, ?)\"\n",
    "\n",
    "    id = hashlib.md5(text.encode(\"utf-8\")).hexdigest()\n",
    "    source = \"日刊工業新聞\"\n",
    "    time = datetime.now().isoformat()\n",
    "    \n",
    "    args = (id, source, time, text)\n",
    "    \n",
    "    try:\n",
    "        dbcur.execute(insert, args)\n",
    "    except sqlite3.Error as e:\n",
    "        print('sqlite3:', e.args[0])\n",
    "    \n",
    "dbcon.commit()\n",
    "dbcon.close()"
   ]
  }
 ],
 "metadata": {
  "kernelspec": {
   "display_name": "Python 3",
   "language": "python",
   "name": "python3"
  },
  "language_info": {
   "codemirror_mode": {
    "name": "ipython",
    "version": 3
   },
   "file_extension": ".py",
   "mimetype": "text/x-python",
   "name": "python",
   "nbconvert_exporter": "python",
   "pygments_lexer": "ipython3",
   "version": "3.6.3"
  }
 },
 "nbformat": 4,
 "nbformat_minor": 2
}
