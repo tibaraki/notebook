{
 "cells": [
  {
   "cell_type": "code",
   "execution_count": 6,
   "metadata": {
    "collapsed": true
   },
   "outputs": [],
   "source": [
    "import sqlite3"
   ]
  },
  {
   "cell_type": "code",
   "execution_count": 4,
   "metadata": {},
   "outputs": [],
   "source": [
    "dbname = \"text.db\"\n",
    "dbcon = sqlite3.connect(dbname)\n",
    "#dbcon.execute(\"DROP TABLE rawtext;\")\n",
    "dbcon.execute(\"CREATE TABLE rawtext(id VARCHAR(36) NOT NULL PRIMARY KEY, source VARCHAR(20), time VARCHAR(20), rawtext VARCHAR(1024));\")\n",
    "#dbcon.execute(\"ALTER TABLE rawtext ADD COLUMN separatedtext VARCHAR(1024);\")\n",
    "dbcon.commit()\n",
    "dbcon.close()"
   ]
  },
  {
   "cell_type": "code",
   "execution_count": 8,
   "metadata": {},
   "outputs": [],
   "source": [
    "dbname = \"text.db\"\n",
    "dbcon = sqlite3.connect(dbname)\n",
    "dbcon.execute(\"INSERT INTO text(id, source, time, rawtext) select id, source, time, rawtext from rawtext;\")\n",
    "dbcon.commit()\n",
    "dbcon.close()"
   ]
  },
  {
   "cell_type": "code",
   "execution_count": 11,
   "metadata": {},
   "outputs": [],
   "source": [
    "dbname = \"text.db\"\n",
    "dbcon = sqlite3.connect(dbname)\n",
    "dbcon.execute(\"DROP TABLE rawtext;\")\n",
    "dbcon.execute(\"ALTER TABLE text RENAME TO rawtext;\")\n",
    "dbcon.commit()\n",
    "dbcon.close()"
   ]
  },
  {
   "cell_type": "code",
   "execution_count": 5,
   "metadata": {
    "collapsed": true
   },
   "outputs": [],
   "source": [
    "#import pandas\n",
    "\n",
    "#dbname = \"text.db\"\n",
    "#dbcon = sqlite3.connect(dbname)\n",
    "#df = pandas.read_sql_query(\"select * from rawtext\", dbcon)\n",
    "#dbcon.close()\n",
    "\n",
    "#pandas.set_option(\"display.max_colwidth\", 1000)\n",
    "#pandas.set_option(\"display.max_rows\", 100)\n",
    "#df"
   ]
  }
 ],
 "metadata": {
  "kernelspec": {
   "display_name": "Python 3",
   "language": "python",
   "name": "python3"
  },
  "language_info": {
   "codemirror_mode": {
    "name": "ipython",
    "version": 3
   },
   "file_extension": ".py",
   "mimetype": "text/x-python",
   "name": "python",
   "nbconvert_exporter": "python",
   "pygments_lexer": "ipython3",
   "version": "3.6.3"
  }
 },
 "nbformat": 4,
 "nbformat_minor": 2
}
